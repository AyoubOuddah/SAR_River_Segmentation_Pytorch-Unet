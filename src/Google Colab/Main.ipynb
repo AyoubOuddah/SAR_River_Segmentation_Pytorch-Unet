{
  "nbformat": 4,
  "nbformat_minor": 0,
  "metadata": {
    "colab": {
      "name": "U-NET-SAR_images.ipynb",
      "provenance": [],
      "private_outputs": true,
      "collapsed_sections": [],
      "toc_visible": true
    },
    "kernelspec": {
      "name": "python3",
      "display_name": "Python 3"
    },
    "accelerator": "GPU"
  },
  "cells": [
    {
      "cell_type": "markdown",
      "metadata": {
        "id": "OarpLjY14Pfv",
        "colab_type": "text"
      },
      "source": [
        "# Cloning the Repository\n"
      ]
    },
    {
      "cell_type": "code",
      "metadata": {
        "id": "NtWX7JUtKjL0",
        "colab_type": "code",
        "colab": {}
      },
      "source": [
        "!git clone https://github.com/AyoubOuddah/SAR_River_Segmentation_Pytorch-Unet.git"
      ],
      "execution_count": 0,
      "outputs": []
    },
    {
      "cell_type": "markdown",
      "metadata": {
        "id": "acc0Q14y4g9d",
        "colab_type": "text"
      },
      "source": [
        "# Runing from Google Drive"
      ]
    },
    {
      "cell_type": "code",
      "metadata": {
        "id": "xRRALpkZhew4",
        "colab_type": "code",
        "colab": {}
      },
      "source": [
        "from google.colab import drive\n",
        "drive.mount('/content/drive')"
      ],
      "execution_count": 0,
      "outputs": []
    },
    {
      "cell_type": "code",
      "metadata": {
        "id": "VKL0zvi133jy",
        "colab_type": "code",
        "colab": {}
      },
      "source": [
        "!rm -r /content/SAR_River_Segmentation_Pytorch-Unet/src/data/dataset/*"
      ],
      "execution_count": 0,
      "outputs": []
    },
    {
      "cell_type": "code",
      "metadata": {
        "id": "h69FePPUHYrO",
        "colab_type": "code",
        "colab": {}
      },
      "source": [
        "#!cp -r /content/drive/My\\ Drive/Raw_DATA /content/SAR_River_Segmentation_Pytorch-Unet/src/data/Ext_DATA/\n",
        "#!cp -r /content/drive/My\\ Drive/dataset /content/SAR_River_Segmentation_Pytorch-Unet/src/data/"
      ],
      "execution_count": 0,
      "outputs": []
    },
    {
      "cell_type": "markdown",
      "metadata": {
        "id": "1-EYjQNe4-Ts",
        "colab_type": "text"
      },
      "source": [
        "# Installing the missing dependency"
      ]
    },
    {
      "cell_type": "code",
      "metadata": {
        "id": "e8VLSuDOK5lU",
        "colab_type": "code",
        "colab": {}
      },
      "source": [
        "pip install pydensecrf"
      ],
      "execution_count": 0,
      "outputs": []
    },
    {
      "cell_type": "markdown",
      "metadata": {
        "id": "T8aBjl_V5O7K",
        "colab_type": "text"
      },
      "source": [
        "# Creating the database\n",
        "\n"
      ]
    },
    {
      "cell_type": "code",
      "metadata": {
        "id": "i-W9NNYDo_a0",
        "colab_type": "code",
        "colab": {}
      },
      "source": [
        "cd SAR_River_Segmentation_Pytorch-Unet/src/"
      ],
      "execution_count": 0,
      "outputs": []
    },
    {
      "cell_type": "code",
      "metadata": {
        "id": "37fHqkUPbecp",
        "colab_type": "code",
        "colab": {}
      },
      "source": [
        "from utils.sar_dataset import SarDataset\n",
        "sarData = SarDataset()"
      ],
      "execution_count": 0,
      "outputs": []
    },
    {
      "cell_type": "code",
      "metadata": {
        "id": "r5X5Op9U6SdM",
        "colab_type": "code",
        "colab": {}
      },
      "source": [
        "sarData.extract_dataSet_images()"
      ],
      "execution_count": 0,
      "outputs": []
    },
    {
      "cell_type": "code",
      "metadata": {
        "id": "TkJ7rHRr61mn",
        "colab_type": "code",
        "colab": {}
      },
      "source": [
        "sarData.normalize_dataSet_images()"
      ],
      "execution_count": 0,
      "outputs": []
    },
    {
      "cell_type": "code",
      "metadata": {
        "id": "sxR4DD3mLkuY",
        "colab_type": "code",
        "colab": {}
      },
      "source": [
        "sarData.compute_dataSet_wight()"
      ],
      "execution_count": 0,
      "outputs": []
    },
    {
      "cell_type": "markdown",
      "metadata": {
        "id": "LlzwJCg3vMnY",
        "colab_type": "text"
      },
      "source": [
        "computed wights : \n",
        "\n",
        "*   84.80535260662717 : for all the dataset \n",
        "*   59.94130156720679 : for the reduced dataset\n"
      ]
    },
    {
      "cell_type": "markdown",
      "metadata": {
        "id": "ZASokXak8RzN",
        "colab_type": "text"
      },
      "source": [
        "# Training the model"
      ]
    },
    {
      "cell_type": "code",
      "metadata": {
        "id": "JomxHjjaHqZS",
        "colab_type": "code",
        "colab": {}
      },
      "source": [
        "!python train.py --epochs 40 --batch-size 4 --learning-rate 0.0001 --scale 1  -W [balancing weight]"
      ],
      "execution_count": 0,
      "outputs": []
    },
    {
      "cell_type": "markdown",
      "metadata": {
        "id": "sONWZLBw8bw6",
        "colab_type": "text"
      },
      "source": [
        "resuming the training"
      ]
    },
    {
      "cell_type": "code",
      "metadata": {
        "id": "e8pZDv3KBS6_",
        "colab_type": "code",
        "colab": {}
      },
      "source": [
        "!python train.py --epochs 80 --batch-size 4 --scale 1 --learning-rate 0.0001 --load [PATH_TO_MODEL.pth]  -W [balancing weight]"
      ],
      "execution_count": 0,
      "outputs": []
    },
    {
      "cell_type": "markdown",
      "metadata": {
        "id": "q8nevDZa9VDq",
        "colab_type": "text"
      },
      "source": [
        "# Predict segmentation mask\n",
        "\n"
      ]
    },
    {
      "cell_type": "code",
      "metadata": {
        "id": "8i-16aIJRwPp",
        "colab_type": "code",
        "colab": {}
      },
      "source": [
        "!python predict.py --model [PATH_TO_MODEL] --scale 1 --mask-threshold [0 .. 1] --input [PATH_TO_THE_TEST_PATCH] --output [PATH_TO_SAVE_THE_RESULT .png] "
      ],
      "execution_count": 0,
      "outputs": []
    },
    {
      "cell_type": "markdown",
      "metadata": {
        "id": "NFE6iWaeStu5",
        "colab_type": "text"
      },
      "source": [
        "# Evaluation metrics"
      ]
    },
    {
      "cell_type": "code",
      "metadata": {
        "id": "ircoPe70StjN",
        "colab_type": "code",
        "colab": {}
      },
      "source": [
        "!python evalTop1.py --model [PATH_TO_MODEL] --scale 1 --chennel [1 OR 2] -b 4 --mask-threshold 0.5"
      ],
      "execution_count": 0,
      "outputs": []
    },
    {
      "cell_type": "markdown",
      "metadata": {
        "id": "ElI_DLIUSnFQ",
        "colab_type": "text"
      },
      "source": [
        "# Roc curve"
      ]
    },
    {
      "cell_type": "code",
      "metadata": {
        "id": "7dzFi4dCHqo4",
        "colab_type": "code",
        "colab": {}
      },
      "source": [
        "!python roc_curve.py --model [PATH_TO_MODEL] --scale 1 --chennel [1 oR 2] -b 4"
      ],
      "execution_count": 0,
      "outputs": []
    }
  ]
}