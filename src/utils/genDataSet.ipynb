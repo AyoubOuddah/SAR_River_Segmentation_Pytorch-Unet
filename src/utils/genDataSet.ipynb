{
 "cells": [
  {
   "cell_type": "code",
   "execution_count": 1,
   "metadata": {},
   "outputs": [],
   "source": [
    "from sar_dataset import SarDataset\n",
    "sarData = SarDataset()"
   ]
  },
  {
   "cell_type": "code",
   "execution_count": 2,
   "metadata": {},
   "outputs": [
    {
     "name": "stderr",
     "output_type": "stream",
     "text": [
      "100%|██████████████████████████████████████████| 12/12 [01:00<00:00,  5.01s/it]\n"
     ]
    },
    {
     "name": "stdout",
     "output_type": "stream",
     "text": [
      "Done!\n",
      "data_counter =  11\n",
      "mean_vv =  44.67427279918653\n",
      "mean_vh =  87.06403865860992\n",
      "std_vv =  27.870856200638265\n",
      "std_vh =  58.11823340711687\n"
     ]
    }
   ],
   "source": [
    "sarData.extract_dataSet_images()"
   ]
  },
  {
   "cell_type": "code",
   "execution_count": 39,
   "metadata": {},
   "outputs": [
    {
     "name": "stderr",
     "output_type": "stream",
     "text": [
      "100%|██████████████████████████████████████████| 12/12 [00:05<00:00,  2.07it/s]\n"
     ]
    }
   ],
   "source": [
    "sarData.normalize_dataSet_images()"
   ]
  },
  {
   "cell_type": "code",
   "execution_count": 49,
   "metadata": {},
   "outputs": [
    {
     "name": "stdout",
     "output_type": "stream",
     "text": [
      "(500, 1500, 3)\n"
     ]
    }
   ],
   "source": [
    "import numpy as np\n",
    "data = np.load(\"../data/Nor_DATA/10_0_.npy\", allow_pickle=True)\n",
    "print(data.shape)"
   ]
  },
  {
   "cell_type": "code",
   "execution_count": 51,
   "metadata": {},
   "outputs": [
    {
     "data": {
      "image/png": "[encoded data removed]",
      "text/plain": [
       "<Figure size 1500x500 with 1 Axes>"
      ]
     },
     "metadata": {
      "needs_background": "light"
     },
     "output_type": "display_data"
    }
   ],
   "source": [
    "import matplotlib.pyplot as plt\n",
    "dpi = 80.0\n",
    "xpixels, ypixels = 500, 1500\n",
    "fig = plt.figure(figsize=(ypixels/dpi, xpixels/dpi), dpi=dpi)\n",
    "plt.imshow(data[:,:,2], cmap=\"gray\")\n",
    "plt.show()"
   ]
  },
  {
   "cell_type": "code",
   "execution_count": 52,
   "metadata": {},
   "outputs": [],
   "source": [
    "!python generate_patches.py"
   ]
  },
  {
   "cell_type": "markdown",
   "metadata": {},
   "source": [
    "# Tests "
   ]
  },
  {
   "cell_type": "code",
   "execution_count": null,
   "metadata": {},
   "outputs": [],
   "source": [
    "dataset0 = np.load(\"./data/test1.npy\")#, allow_pickle=True)\n",
    "dataset1 = np.load(\"./data/test2.npy\")#, allow_pickle=True)\n",
    "dataset2 = np.load(\"./data/test3.npy\")#, allow_pickle=True)\n",
    "\n",
    "print(dataset0.shape)\n",
    "print(dataset1.shape)\n",
    "print(dataset2.shape)"
   ]
  },
  {
   "cell_type": "code",
   "execution_count": null,
   "metadata": {},
   "outputs": [],
   "source": [
    "patchData = np.load(\"./data/patch_2.npy\")\n",
    "patchData = patchData.astype(\"float32\")\n",
    "print(patchData.shape)\n",
    "patch0 = dataset0[0,:,:,1]\n",
    "patch1 = dataset1[0,:,:,1]\n",
    "patch2 = dataset2[0,:,:,1]\n",
    "\n",
    "test0 = patch0 - patch1\n",
    "test1 = patch0 - patch2\n",
    "test1 = patch1 - patch2\n"
   ]
  },
  {
   "cell_type": "code",
   "execution_count": null,
   "metadata": {
    "scrolled": true
   },
   "outputs": [],
   "source": [
    "dpi = 80.0\n",
    "xpixels, ypixels = 572, 572\n",
    "fig = plt.figure(figsize=(ypixels/dpi, xpixels/dpi), dpi=dpi)\n",
    "plt.imshow(patchData[:,:,0], cmap=\"gray\")\n",
    "plt.show()\n",
    "#print(type(dataset[0,0,0,1]))"
   ]
  },
  {
   "cell_type": "code",
   "execution_count": 14,
   "metadata": {},
   "outputs": [
    {
     "name": "stderr",
     "output_type": "stream",
     "text": [
      "100%|███████████████████████████████████████| 627/627 [00:02<00:00, 270.77it/s]"
     ]
    },
    {
     "name": "stdout",
     "output_type": "stream",
     "text": [
      "189\n"
     ]
    },
    {
     "name": "stderr",
     "output_type": "stream",
     "text": [
      "\n"
     ]
    }
   ],
   "source": [
    "import numpy as np\n",
    "import os\n",
    "from tqdm import tqdm\n",
    "INPUT_PATH = \"../data/dataset/train/\"\n",
    "counter = 0\n",
    "for f in tqdm(os.listdir(INPUT_PATH)):\n",
    "    if \"npy\" in f:\n",
    "        try:\n",
    "            path = os.path.join(INPUT_PATH, f)\n",
    "            patch = np.load(path)\n",
    "            if patch[:,:,2].max() == 0: \n",
    "                counter += 1\n",
    "        except Exception as e:\n",
    "            print(e)\n",
    "print(counter)"
   ]
  },
  {
   "cell_type": "code",
   "execution_count": 3,
   "metadata": {},
   "outputs": [
    {
     "name": "stderr",
     "output_type": "stream",
     "text": [
      "100%|████████████████████████████████████████| 627/627 [00:38<00:00, 16.17it/s]"
     ]
    },
    {
     "name": "stdout",
     "output_type": "stream",
     "text": [
      "3449257.0\n"
     ]
    },
    {
     "name": "stderr",
     "output_type": "stream",
     "text": [
      "\n"
     ]
    }
   ],
   "source": [
    "import numpy as np\n",
    "import os\n",
    "from tqdm import tqdm\n",
    "INPUT_PATH = \"../data/dataset/train/\"\n",
    "wPixel = 0\n",
    "for f in tqdm(os.listdir(INPUT_PATH)):\n",
    "    if \"npy\" in f:\n",
    "        try:\n",
    "            path = os.path.join(INPUT_PATH, f)\n",
    "            patch = np.load(path)\n",
    "            wPixel += patch[:,:,2].sum()\n",
    "        except Exception as e:\n",
    "            print(e)\n",
    "print(wPixel)"
   ]
  },
  {
   "cell_type": "code",
   "execution_count": 6,
   "metadata": {},
   "outputs": [
    {
     "data": {
      "text/plain": [
       "58.47494431409431"
      ]
     },
     "execution_count": 6,
     "metadata": {},
     "output_type": "execute_result"
    }
   ],
   "source": [
    "(205144368-3449257) / 3449257"
   ]
  },
  {
   "cell_type": "code",
   "execution_count": 4,
   "metadata": {},
   "outputs": [
    {
     "name": "stdout",
     "output_type": "stream",
     "text": [
      "205144368\n"
     ]
    }
   ],
   "source": [
    "print(627 * 572 * 572)"
   ]
  }
 ],
 "metadata": {
  "kernelspec": {
   "display_name": "Python 3",
   "language": "python",
   "name": "python3"
  },
  "language_info": {
   "codemirror_mode": {
    "name": "ipython",
    "version": 3
   },
   "file_extension": ".py",
   "mimetype": "text/x-python",
   "name": "python",
   "nbconvert_exporter": "python",
   "pygments_lexer": "ipython3",
   "version": "3.7.5"
  }
 },
 "nbformat": 4,
 "nbformat_minor": 2
}
